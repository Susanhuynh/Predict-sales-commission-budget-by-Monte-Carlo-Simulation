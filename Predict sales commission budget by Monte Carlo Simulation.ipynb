{
 "cells": [
  {
   "cell_type": "code",
   "execution_count": 1,
   "metadata": {},
   "outputs": [],
   "source": [
    "import pandas as pd\n",
    "import numpy as np\n",
    "import seaborn as sns\n",
    "\n",
    "sns.set_style(\"whitegrid\")"
   ]
  },
  {
   "cell_type": "code",
   "execution_count": 2,
   "metadata": {},
   "outputs": [],
   "source": [
    "avg = 1\n",
    "std_dev = .1\n",
    "num_reps = 500\n",
    "num_simulations = 1000"
   ]
  },
  {
   "cell_type": "code",
   "execution_count": 3,
   "metadata": {},
   "outputs": [],
   "source": [
    "pct_to_target = np.random.normal(avg,std_dev,num_reps).round(2)"
   ]
  },
  {
   "cell_type": "code",
   "execution_count": 4,
   "metadata": {},
   "outputs": [
    {
     "data": {
      "text/plain": [
       "array([0.88, 1.02, 1.07, 0.83, 1.03, 1.04, 0.94, 1.  , 0.87, 1.07])"
      ]
     },
     "execution_count": 4,
     "metadata": {},
     "output_type": "execute_result"
    }
   ],
   "source": [
    "pct_to_target[:10]"
   ]
  },
  {
   "cell_type": "code",
   "execution_count": 5,
   "metadata": {},
   "outputs": [],
   "source": [
    "sales_target_values = [75_000,100_000,200_000,300_000,400_000,500_000]\n",
    "sales_target_prob = [.3,.3,.2,.1,.05,.05]\n",
    "sales_target = np.random.choice(sales_target_values, num_reps, p=sales_target_prob)"
   ]
  },
  {
   "cell_type": "code",
   "execution_count": 7,
   "metadata": {},
   "outputs": [],
   "source": [
    "df = pd.DataFrame(index=range(num_reps),data={\"Pct_to_target\": pct_to_target, \"Sales_target\": sales_target})\n",
    "df[\"Sales\"] = df[\"Pct_to_target\"]*df[\"Sales_target\"]"
   ]
  },
  {
   "cell_type": "code",
   "execution_count": 8,
   "metadata": {},
   "outputs": [
    {
     "data": {
      "text/html": [
       "<div>\n",
       "<style scoped>\n",
       "    .dataframe tbody tr th:only-of-type {\n",
       "        vertical-align: middle;\n",
       "    }\n",
       "\n",
       "    .dataframe tbody tr th {\n",
       "        vertical-align: top;\n",
       "    }\n",
       "\n",
       "    .dataframe thead th {\n",
       "        text-align: right;\n",
       "    }\n",
       "</style>\n",
       "<table border=\"1\" class=\"dataframe\">\n",
       "  <thead>\n",
       "    <tr style=\"text-align: right;\">\n",
       "      <th></th>\n",
       "      <th>Pct_to_target</th>\n",
       "      <th>Sales_target</th>\n",
       "      <th>Sales</th>\n",
       "    </tr>\n",
       "  </thead>\n",
       "  <tbody>\n",
       "    <tr>\n",
       "      <th>0</th>\n",
       "      <td>0.88</td>\n",
       "      <td>75000</td>\n",
       "      <td>66000.0</td>\n",
       "    </tr>\n",
       "    <tr>\n",
       "      <th>1</th>\n",
       "      <td>1.02</td>\n",
       "      <td>100000</td>\n",
       "      <td>102000.0</td>\n",
       "    </tr>\n",
       "    <tr>\n",
       "      <th>2</th>\n",
       "      <td>1.07</td>\n",
       "      <td>75000</td>\n",
       "      <td>80250.0</td>\n",
       "    </tr>\n",
       "    <tr>\n",
       "      <th>3</th>\n",
       "      <td>0.83</td>\n",
       "      <td>200000</td>\n",
       "      <td>166000.0</td>\n",
       "    </tr>\n",
       "    <tr>\n",
       "      <th>4</th>\n",
       "      <td>1.03</td>\n",
       "      <td>300000</td>\n",
       "      <td>309000.0</td>\n",
       "    </tr>\n",
       "  </tbody>\n",
       "</table>\n",
       "</div>"
      ],
      "text/plain": [
       "   Pct_to_target  Sales_target     Sales\n",
       "0           0.88         75000   66000.0\n",
       "1           1.02        100000  102000.0\n",
       "2           1.07         75000   80250.0\n",
       "3           0.83        200000  166000.0\n",
       "4           1.03        300000  309000.0"
      ]
     },
     "execution_count": 8,
     "metadata": {},
     "output_type": "execute_result"
    }
   ],
   "source": [
    "df.head()"
   ]
  },
  {
   "cell_type": "code",
   "execution_count": 11,
   "metadata": {},
   "outputs": [
    {
     "data": {
      "text/plain": [
       "<matplotlib.axes._subplots.AxesSubplot at 0x1a1d330da0>"
      ]
     },
     "execution_count": 11,
     "metadata": {},
     "output_type": "execute_result"
    },
    {
     "data": {
      "image/png": "[encoded data removed]",
      "text/plain": [
       "<Figure size 432x288 with 1 Axes>"
      ]
     },
     "metadata": {
      "needs_background": "light"
     },
     "output_type": "display_data"
    }
   ],
   "source": [
    "df[\"Pct_to_target\"].plot(kind=\"hist\", title=\"Historical % to Target Distribution\")"
   ]
  },
  {
   "cell_type": "code",
   "execution_count": 12,
   "metadata": {},
   "outputs": [
    {
     "data": {
      "text/plain": [
       "<matplotlib.axes._subplots.AxesSubplot at 0x1a1d259cc0>"
      ]
     },
     "execution_count": 12,
     "metadata": {},
     "output_type": "execute_result"
    },
    {
     "data": {
      "image/png": "[encoded data removed]",
      "text/plain": [
       "<Figure size 432x288 with 1 Axes>"
      ]
     },
     "metadata": {
      "needs_background": "light"
     },
     "output_type": "display_data"
    }
   ],
   "source": [
    "df[\"Sales_target\"].plot(kind=\"hist\", title=\"Historical sales target distribution\")"
   ]
  },
  {
   "cell_type": "code",
   "execution_count": 9,
   "metadata": {},
   "outputs": [],
   "source": [
    "def calc_comission_rate(x):\n",
    "    \"\"\" Return the commission rate based on the table:\n",
    "    0-90% = 2%\n",
    "    91-99% = 3%\n",
    "    >= 100 = 4%\n",
    "    \"\"\"\n",
    "    if x<=.9:\n",
    "        return .02\n",
    "    if x<=.99:\n",
    "        return .03\n",
    "    else:\n",
    "        return .04"
   ]
  },
  {
   "cell_type": "code",
   "execution_count": 13,
   "metadata": {},
   "outputs": [],
   "source": [
    "df[\"Commission_rate\"] = df[\"Pct_to_target\"].apply(calc_comission_rate)\n",
    "df[\"Commission_Amount\"] = df[\"Sales\"]*df[\"Commission_rate\"]"
   ]
  },
  {
   "cell_type": "code",
   "execution_count": 14,
   "metadata": {},
   "outputs": [
    {
     "data": {
      "text/html": [
       "<div>\n",
       "<style scoped>\n",
       "    .dataframe tbody tr th:only-of-type {\n",
       "        vertical-align: middle;\n",
       "    }\n",
       "\n",
       "    .dataframe tbody tr th {\n",
       "        vertical-align: top;\n",
       "    }\n",
       "\n",
       "    .dataframe thead th {\n",
       "        text-align: right;\n",
       "    }\n",
       "</style>\n",
       "<table border=\"1\" class=\"dataframe\">\n",
       "  <thead>\n",
       "    <tr style=\"text-align: right;\">\n",
       "      <th></th>\n",
       "      <th>Pct_to_target</th>\n",
       "      <th>Sales_target</th>\n",
       "      <th>Sales</th>\n",
       "      <th>Commission_rate</th>\n",
       "      <th>Commission_Amount</th>\n",
       "    </tr>\n",
       "  </thead>\n",
       "  <tbody>\n",
       "    <tr>\n",
       "      <th>0</th>\n",
       "      <td>0.88</td>\n",
       "      <td>75000</td>\n",
       "      <td>66000.0</td>\n",
       "      <td>0.02</td>\n",
       "      <td>1320.0</td>\n",
       "    </tr>\n",
       "    <tr>\n",
       "      <th>1</th>\n",
       "      <td>1.02</td>\n",
       "      <td>100000</td>\n",
       "      <td>102000.0</td>\n",
       "      <td>0.04</td>\n",
       "      <td>4080.0</td>\n",
       "    </tr>\n",
       "    <tr>\n",
       "      <th>2</th>\n",
       "      <td>1.07</td>\n",
       "      <td>75000</td>\n",
       "      <td>80250.0</td>\n",
       "      <td>0.04</td>\n",
       "      <td>3210.0</td>\n",
       "    </tr>\n",
       "    <tr>\n",
       "      <th>3</th>\n",
       "      <td>0.83</td>\n",
       "      <td>200000</td>\n",
       "      <td>166000.0</td>\n",
       "      <td>0.02</td>\n",
       "      <td>3320.0</td>\n",
       "    </tr>\n",
       "    <tr>\n",
       "      <th>4</th>\n",
       "      <td>1.03</td>\n",
       "      <td>300000</td>\n",
       "      <td>309000.0</td>\n",
       "      <td>0.04</td>\n",
       "      <td>12360.0</td>\n",
       "    </tr>\n",
       "  </tbody>\n",
       "</table>\n",
       "</div>"
      ],
      "text/plain": [
       "   Pct_to_target  Sales_target     Sales  Commission_rate  Commission_Amount\n",
       "0           0.88         75000   66000.0             0.02             1320.0\n",
       "1           1.02        100000  102000.0             0.04             4080.0\n",
       "2           1.07         75000   80250.0             0.04             3210.0\n",
       "3           0.83        200000  166000.0             0.02             3320.0\n",
       "4           1.03        300000  309000.0             0.04            12360.0"
      ]
     },
     "execution_count": 14,
     "metadata": {},
     "output_type": "execute_result"
    }
   ],
   "source": [
    "df.head()"
   ]
  },
  {
   "cell_type": "code",
   "execution_count": 16,
   "metadata": {},
   "outputs": [
    {
     "name": "stdout",
     "output_type": "stream",
     "text": [
      "84002000.0\n"
     ]
    }
   ],
   "source": [
    "print(df[\"Sales\"].sum())"
   ]
  },
  {
   "cell_type": "code",
   "execution_count": 18,
   "metadata": {},
   "outputs": [],
   "source": [
    "#Define a list to keep all the results from each simulation that we want to analyze\n",
    "all_stats = []"
   ]
  },
  {
   "cell_type": "code",
   "execution_count": 19,
   "metadata": {},
   "outputs": [],
   "source": [
    "# Loop through many simulations\n",
    "for i in range(num_simulations):\n",
    "    \n",
    "    # Choose random inputs for the sales targets and percent to target\n",
    "    sales_target = np.random.choice(sales_target_values, num_reps, p=sales_target_prob)\n",
    "    pct_to_target = np.random.normal(avg,std_dev,num_reps).round(2)\n",
    "    \n",
    "     # Build the dataframe based on the inputs and number of reps\n",
    "    df = pd.DataFrame(index=range(num_reps),data={\"Pct_to_target\": pct_to_target, \"Sales_target\": sales_target})\n",
    "    \n",
    "    # Back into the sales number using the percent to target rate\n",
    "    df[\"Sales\"] = df[\"Pct_to_target\"]*df[\"Sales_target\"]\n",
    "    \n",
    "     # Determine the commissions rate and calculate it\n",
    "    df[\"Commission_rate\"] = df[\"Pct_to_target\"].apply(calc_comission_rate)\n",
    "    df[\"Commission_Amount\"] = df[\"Sales\"]*df[\"Commission_rate\"]\n",
    "    \n",
    "     # We want to track sales,commission amounts and sales targets over all the simulations\n",
    "    all_stats.append([df[\"Sales\"].sum().round(0),\n",
    "                     df[\"Commission_Amount\"].sum().round(0),\n",
    "                     df[\"Sales_target\"].sum().round(0)])\n",
    "    "
   ]
  },
  {
   "cell_type": "code",
   "execution_count": 20,
   "metadata": {},
   "outputs": [],
   "source": [
    "results_df = pd.DataFrame.from_records(all_stats, columns=[\"Sales\", \"Commission_Amount\", \"Sales_Target\"])"
   ]
  },
  {
   "cell_type": "code",
   "execution_count": 21,
   "metadata": {},
   "outputs": [
    {
     "data": {
      "text/html": [
       "<style  type=\"text/css\" >\n",
       "</style><table id=\"T_af7a9338_7373_11ea_8a00_8c859043f7ab\" ><thead>    <tr>        <th class=\"blank level0\" ></th>        <th class=\"col_heading level0 col0\" >Sales</th>        <th class=\"col_heading level0 col1\" >Commission_Amount</th>        <th class=\"col_heading level0 col2\" >Sales_Target</th>    </tr></thead><tbody>\n",
       "                <tr>\n",
       "                        <th id=\"T_af7a9338_7373_11ea_8a00_8c859043f7ablevel0_row0\" class=\"row_heading level0 row0\" >count</th>\n",
       "                        <td id=\"T_af7a9338_7373_11ea_8a00_8c859043f7abrow0_col0\" class=\"data row0 col0\" >1,000.0</td>\n",
       "                        <td id=\"T_af7a9338_7373_11ea_8a00_8c859043f7abrow0_col1\" class=\"data row0 col1\" >1,000.0</td>\n",
       "                        <td id=\"T_af7a9338_7373_11ea_8a00_8c859043f7abrow0_col2\" class=\"data row0 col2\" >1,000.0</td>\n",
       "            </tr>\n",
       "            <tr>\n",
       "                        <th id=\"T_af7a9338_7373_11ea_8a00_8c859043f7ablevel0_row1\" class=\"row_heading level0 row1\" >mean</th>\n",
       "                        <td id=\"T_af7a9338_7373_11ea_8a00_8c859043f7abrow1_col0\" class=\"data row1 col0\" >83,808,821.75</td>\n",
       "                        <td id=\"T_af7a9338_7373_11ea_8a00_8c859043f7abrow1_col1\" class=\"data row1 col1\" >2,860,475.784</td>\n",
       "                        <td id=\"T_af7a9338_7373_11ea_8a00_8c859043f7abrow1_col2\" class=\"data row1 col2\" >83,813,300.0</td>\n",
       "            </tr>\n",
       "            <tr>\n",
       "                        <th id=\"T_af7a9338_7373_11ea_8a00_8c859043f7ablevel0_row2\" class=\"row_heading level0 row2\" >std</th>\n",
       "                        <td id=\"T_af7a9338_7373_11ea_8a00_8c859043f7abrow2_col0\" class=\"data row2 col0\" >2,773,179.4271060615</td>\n",
       "                        <td id=\"T_af7a9338_7373_11ea_8a00_8c859043f7abrow2_col1\" class=\"data row2 col1\" >105,296.01753075562</td>\n",
       "                        <td id=\"T_af7a9338_7373_11ea_8a00_8c859043f7abrow2_col2\" class=\"data row2 col2\" >2,728,095.373033055</td>\n",
       "            </tr>\n",
       "            <tr>\n",
       "                        <th id=\"T_af7a9338_7373_11ea_8a00_8c859043f7ablevel0_row3\" class=\"row_heading level0 row3\" >min</th>\n",
       "                        <td id=\"T_af7a9338_7373_11ea_8a00_8c859043f7abrow3_col0\" class=\"data row3 col0\" >73,762,250.0</td>\n",
       "                        <td id=\"T_af7a9338_7373_11ea_8a00_8c859043f7abrow3_col1\" class=\"data row3 col1\" >2,492,065.0</td>\n",
       "                        <td id=\"T_af7a9338_7373_11ea_8a00_8c859043f7abrow3_col2\" class=\"data row3 col2\" >74,175,000.0</td>\n",
       "            </tr>\n",
       "            <tr>\n",
       "                        <th id=\"T_af7a9338_7373_11ea_8a00_8c859043f7ablevel0_row4\" class=\"row_heading level0 row4\" >25%</th>\n",
       "                        <td id=\"T_af7a9338_7373_11ea_8a00_8c859043f7abrow4_col0\" class=\"data row4 col0\" >81,985,750.0</td>\n",
       "                        <td id=\"T_af7a9338_7373_11ea_8a00_8c859043f7abrow4_col1\" class=\"data row4 col1\" >2,789,891.5</td>\n",
       "                        <td id=\"T_af7a9338_7373_11ea_8a00_8c859043f7abrow4_col2\" class=\"data row4 col2\" >81,993,750.0</td>\n",
       "            </tr>\n",
       "            <tr>\n",
       "                        <th id=\"T_af7a9338_7373_11ea_8a00_8c859043f7ablevel0_row5\" class=\"row_heading level0 row5\" >50%</th>\n",
       "                        <td id=\"T_af7a9338_7373_11ea_8a00_8c859043f7abrow5_col0\" class=\"data row5 col0\" >83,637,875.0</td>\n",
       "                        <td id=\"T_af7a9338_7373_11ea_8a00_8c859043f7abrow5_col1\" class=\"data row5 col1\" >2,859,416.5</td>\n",
       "                        <td id=\"T_af7a9338_7373_11ea_8a00_8c859043f7abrow5_col2\" class=\"data row5 col2\" >83,700,000.0</td>\n",
       "            </tr>\n",
       "            <tr>\n",
       "                        <th id=\"T_af7a9338_7373_11ea_8a00_8c859043f7ablevel0_row6\" class=\"row_heading level0 row6\" >75%</th>\n",
       "                        <td id=\"T_af7a9338_7373_11ea_8a00_8c859043f7abrow6_col0\" class=\"data row6 col0\" >85,636,312.5</td>\n",
       "                        <td id=\"T_af7a9338_7373_11ea_8a00_8c859043f7abrow6_col1\" class=\"data row6 col1\" >2,927,059.75</td>\n",
       "                        <td id=\"T_af7a9338_7373_11ea_8a00_8c859043f7abrow6_col2\" class=\"data row6 col2\" >85,675,000.0</td>\n",
       "            </tr>\n",
       "            <tr>\n",
       "                        <th id=\"T_af7a9338_7373_11ea_8a00_8c859043f7ablevel0_row7\" class=\"row_heading level0 row7\" >max</th>\n",
       "                        <td id=\"T_af7a9338_7373_11ea_8a00_8c859043f7abrow7_col0\" class=\"data row7 col0\" >91,958,500.0</td>\n",
       "                        <td id=\"T_af7a9338_7373_11ea_8a00_8c859043f7abrow7_col1\" class=\"data row7 col1\" >3,182,678.0</td>\n",
       "                        <td id=\"T_af7a9338_7373_11ea_8a00_8c859043f7abrow7_col2\" class=\"data row7 col2\" >92,100,000.0</td>\n",
       "            </tr>\n",
       "    </tbody></table>"
      ],
      "text/plain": [
       "<pandas.io.formats.style.Styler at 0x1a21b64b00>"
      ]
     },
     "execution_count": 21,
     "metadata": {},
     "output_type": "execute_result"
    }
   ],
   "source": [
    "results_df.describe().style.format(\"{:,}\")"
   ]
  },
  {
   "cell_type": "code",
   "execution_count": null,
   "metadata": {},
   "outputs": [],
   "source": []
  }
 ],
 "metadata": {
  "kernelspec": {
   "display_name": "Python 3",
   "language": "python",
   "name": "python3"
  },
  "language_info": {
   "codemirror_mode": {
    "name": "ipython",
    "version": 3
   },
   "file_extension": ".py",
   "mimetype": "text/x-python",
   "name": "python",
   "nbconvert_exporter": "python",
   "pygments_lexer": "ipython3",
   "version": "3.7.3"
  }
 },
 "nbformat": 4,
 "nbformat_minor": 2
}
